{
 "cells": [
  {
   "cell_type": "markdown",
   "id": "86360aba-a0f4-4ed3-82d9-857ccb83aa3f",
   "metadata": {},
   "source": [
    "# Exercise 1: Create a Jupyter Notebook\n",
    "\n",
    "## Name: Peer-graded_Assignment_Submitting_My_Work"
   ]
  },
  {
   "cell_type": "markdown",
   "id": "0d86f42a-ecf1-46a6-8db6-e498583f286a",
   "metadata": {
    "tags": []
   },
   "source": [
    "## Exercise 2 - Create a markdown cell with the title of the notebook.\n",
    "\n",
    "# Data Science Tools and Ecosystem"
   ]
  },
  {
   "cell_type": "markdown",
   "id": "64cfde21-8d10-4ff3-a768-166d5ee207b5",
   "metadata": {
    "tags": []
   },
   "source": [
    "## Exercise 3 - Create a markdown cell for an introduction. (1 pt)\n",
    "\n",
    "In this notebook, Data Science Tools and Ecosystem are summarized.\n",
    "\n",
    "__Objectives:__\n",
    "\n",
    "• List popular languages that Data Scientists use.\n",
    "\n",
    "• List commonly used libraries used by Data Scientists.\n",
    "\n",
    "• Comment on Data Science tools."
   ]
  },
  {
   "cell_type": "markdown",
   "id": "7da1f27a-f2cb-476d-85db-75c73d78769e",
   "metadata": {
    "tags": []
   },
   "source": [
    "# Exercise 4 - Create a markdown cell to list data science languages. (3 pts)\n",
    "\n",
    "Some of the popular languages that Data Scientists use are:\n",
    "    \n",
    "ordered list\n",
    "\n",
    "1-Python\n",
    "\n",
    "2-R\n",
    "\n",
    "3-SQL\n",
    "\n",
    "4-Scala\n",
    "\n",
    "5-Java\n",
    "\n",
    "6-Julia\n",
    "\n",
    "7-C/C++\n",
    "\n",
    "8-JavaScript\n",
    "\n"
   ]
  },
  {
   "cell_type": "markdown",
   "id": "4a36091b-5bbb-40c5-a34e-f4de61cb2873",
   "metadata": {},
   "source": [
    "# Exercise 5 - Create a markdown cell to list data science libraries. (3 pts)\n",
    "\n",
    "Some of the commonly used libraries used by Data Scientists include:\n",
    "\n",
    "ordered list\n",
    "\n",
    "1-TensorFlow\n",
    "\n",
    "2-NumPy\n",
    "\n",
    "3-SciPy\n",
    "\n",
    "4-Pandas\n",
    "\n",
    "5-Matplotlib\n",
    "\n",
    "6-Keras\n",
    "\n",
    "7-SciKit-Learn\n",
    "\n",
    "8-PyTorch\n",
    "\n",
    "9-Scrapy\n",
    "\n",
    "10-BeautifulSoup\n",
    "\n",
    "11-LightGBM\n",
    "\n",
    "12-ELI5\n",
    "\n",
    "13-Theano\n",
    "\n",
    "14-NuPIC\n",
    "\n",
    "15-Ramp\n",
    "\n",
    "16-Pipenv\n",
    "\n",
    "17-Bob\n",
    "\n",
    "18-PyBrain\n",
    "\n",
    "19-Caffe2\n",
    "\n",
    "20-Chainer"
   ]
  },
  {
   "cell_type": "markdown",
   "id": "6f43883a-7f3f-4db4-88d0-5efe9c43d687",
   "metadata": {
    "tags": []
   },
   "source": [
    "# Exercise 6 - Create a markdown cell with a table of Data Science tools. (3 pts)\n",
    "\n",
    "|Data Science Tools|\n",
    "\n",
    "  |-------------|---------------|------------|\n",
    "\n",
    "|RapidMiner|ApacheSpark|TensorFlow|\n"
   ]
  },
  {
   "cell_type": "markdown",
   "id": "4279c80d-efea-4131-bcbd-9e49a498a3fe",
   "metadata": {
    "tags": []
   },
   "source": [
    "# Exercise 7 - Create a markdown cell introducing arithmetic expression examples. (1 pt)\n",
    "\n",
    "### Below are a few examples of evaluating arithmetic expressions in Python\n",
    "\n"
   ]
  },
  {
   "cell_type": "markdown",
   "id": "261e7328-5a6f-4df9-bec6-aaeed13798ea",
   "metadata": {
    "tags": []
   },
   "source": [
    "# Arithmetic operations\n",
    "code = compile(\"5 + 6\", \"<string>\", \"eval\")\n",
    "eval(code)\n",
    "# Result: 11\n",
    "    \n",
    "code1 = compile(\"(7 + 7) * 2\", \"<string>\", \"eval\")\n",
    "eval(code1)\n",
    "# Result: 28\n",
    "    \n",
    "\n",
    "    "
   ]
  },
  {
   "cell_type": "markdown",
   "id": "245431fe-aaef-4e14-91a7-97e60f6b040a",
   "metadata": {
    "tags": []
   },
   "source": [
    "# Exercise 8 - Create a code cell to multiply and add numbers.(2 pts)\n",
    "\n",
    "This a simple arithmetic expression to mutiply then add integers"
   ]
  },
  {
   "cell_type": "code",
   "execution_count": 4,
   "id": "b6aaefee-05d0-4070-bbdd-27e95fb346e7",
   "metadata": {
    "tags": []
   },
   "outputs": [
    {
     "data": {
      "text/plain": [
       "17"
      ]
     },
     "execution_count": 4,
     "metadata": {},
     "output_type": "execute_result"
    }
   ],
   "source": [
    "(3*4)+5\n",
    "\n",
    "# Result: 17"
   ]
  },
  {
   "cell_type": "markdown",
   "id": "f5bb620d-3f5e-4263-83a9-ad331c9f3c6e",
   "metadata": {
    "tags": []
   },
   "source": [
    "# Exercise 9 - Create a code cell to convert minutes to hours. (2 pts)\n",
    "\n",
    "This will convert 200 minutes to hours by diving by 60"
   ]
  },
  {
   "cell_type": "code",
   "execution_count": 5,
   "id": "d5384699-e37b-426e-a011-b99c48f739bd",
   "metadata": {
    "tags": []
   },
   "outputs": [
    {
     "name": "stdout",
     "output_type": "stream",
     "text": [
      "0 days, 3.3333333333333335 hours, 0 mins. \n"
     ]
    }
   ],
   "source": [
    "days = 0\n",
    "hours = 0\n",
    "mins = 0\n",
    "\n",
    "time = 200\n",
    "#days = time / 1440\n",
    "leftover_minutes = time % 1440\n",
    "hours = leftover_minutes / 60\n",
    "#mins = time - (days*1440) - (hours*60)\n",
    "print(str(days) + \" days, \" + str(hours) + \" hours, \" + str(mins) +  \" mins. \")\n",
    "\n",
    "# Result: 3.3333333333333335 hours"
   ]
  },
  {
   "cell_type": "markdown",
   "id": "41c31070-0653-4dd4-a3ef-dad43ae0173e",
   "metadata": {},
   "source": [
    "# Exercise 10 -Insert a markdown cell to list Objectives.\n",
    "\n",
    "Below the introduction cell created in Exercise 3, insert a new markdown cell to list the objectives that this notebook covered (i.e. some of the key takeaways from the course). In this new cell start with an introductory line titled: Objectives: in bold font. Then using an unordered list (bullets) indicate 3 to 5 items covered in this notebook, such as List popular languages for Data Science."
   ]
  },
  {
   "cell_type": "markdown",
   "id": "c582735b-c4db-474a-9677-783951c24f80",
   "metadata": {},
   "source": [
    "# Exercise 11 - Create a markdown cell to indicate the Author’s name.\n",
    "\n",
    "## Author\n",
    "   Bruno Oliveira\n",
    "   "
   ]
  }
 ],
 "metadata": {
  "kernelspec": {
   "display_name": "Python",
   "language": "python",
   "name": "conda-env-python-py"
  },
  "language_info": {
   "codemirror_mode": {
    "name": "ipython",
    "version": 3
   },
   "file_extension": ".py",
   "mimetype": "text/x-python",
   "name": "python",
   "nbconvert_exporter": "python",
   "pygments_lexer": "ipython3",
   "version": "3.7.12"
  }
 },
 "nbformat": 4,
 "nbformat_minor": 5
}
